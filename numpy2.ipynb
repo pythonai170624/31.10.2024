{
 "cells": [
  {
   "cell_type": "code",
   "execution_count": 1,
   "id": "3082d4f5-80aa-4abd-af80-2c6dea265f29",
   "metadata": {},
   "outputs": [],
   "source": [
    "import numpy as np"
   ]
  },
  {
   "cell_type": "code",
   "execution_count": 7,
   "id": "b0f2e5ce-84e2-4010-82ab-48d4ea6a8da5",
   "metadata": {},
   "outputs": [
    {
     "name": "stdout",
     "output_type": "stream",
     "text": [
      "first_np_array <class 'numpy.ndarray'>\n",
      "scnd_array <class 'numpy.ndarray'>\n"
     ]
    }
   ],
   "source": [
    "first_np_array = np.array([1, 2, 3])\n",
    "first_np_array\n",
    "print('first_np_array', type(first_np_array))\n",
    "list1 = [4,5,6]\n",
    "scnd_array  = np.array(list1)\n",
    "print('scnd_array', type(scnd_array))"
   ]
  },
  {
   "cell_type": "code",
   "execution_count": 21,
   "id": "5d383ec1-86e0-4103-bc9a-db93cd0359d4",
   "metadata": {},
   "outputs": [
    {
     "name": "stdout",
     "output_type": "stream",
     "text": [
      "[[1 2 3]\n",
      " [4 5 6]\n",
      " [7 8 9]]\n",
      "matrix <class 'list'> [[1, 2, 3], [4, 5, 6], [7, 8, 9]]\n",
      "np_matrix <class 'numpy.ndarray'> [[1 2 3]\n",
      " [4 5 6]\n",
      " [7 8 9]]\n",
      "np_matrix[0] [1 2 3]\n",
      "np_matrix[0][0] 1\n"
     ]
    }
   ],
   "source": [
    "matrix = [[1,2,3], [4,5,6], [7,8,9]]\n",
    "np_matrix = np.array(matrix)\n",
    "print(np_matrix)\n",
    "print('matrix', type(matrix), matrix)\n",
    "print('np_matrix', type(np_matrix), np_matrix)\n",
    "print('np_matrix[0]', np_matrix[0])\n",
    "print('np_matrix[0][0]', np_matrix[0][0])"
   ]
  },
  {
   "cell_type": "code",
   "execution_count": 30,
   "id": "b673a06c-05b4-472a-9b5a-6766281782be",
   "metadata": {},
   "outputs": [
    {
     "name": "stdout",
     "output_type": "stream",
     "text": [
      "[0, 1, 2, 3, 4, 5, 6, 7, 8, 9]\n",
      "[0 1 2 3 4 5 6 7 8 9]\n",
      "[0.1 0.2 0.3 0.4 0.5]\n"
     ]
    }
   ],
   "source": [
    "l1 = [x for x in range(10)]\n",
    "print(l1)\n",
    "l2 = np.arange(0, 10)\n",
    "print(l2)\n",
    "l2 = np.arange(0.1, 0.5 + 0.1, 0.1)\n",
    "print(l2)"
   ]
  },
  {
   "cell_type": "code",
   "execution_count": 40,
   "id": "ced7bb1d-4da3-4037-ba0a-8546d7b72e32",
   "metadata": {},
   "outputs": [
    {
     "name": "stdout",
     "output_type": "stream",
     "text": [
      "[0 0 0 0 0]\n",
      "[0. 0. 0. 0. 0.]\n",
      "[[0. 0. 0. 0. 0.]\n",
      " [0. 0. 0. 0. 0.]]\n"
     ]
    }
   ],
   "source": [
    "print(np.zeros(5, dtype=int))\n",
    "print(np.zeros(5))\n",
    "# [[1, 2, 3], [4, 5, 6]]\n",
    "# [1,2,3][4,5,6] 'C'\n",
    "# [1,4][2,5][3,6] 'F'\n",
    "print(np.zeros(shape=(2,5)))  "
   ]
  },
  {
   "cell_type": "code",
   "execution_count": 46,
   "id": "26a11258-ea51-4eef-85b7-7a88314d5214",
   "metadata": {},
   "outputs": [
    {
     "name": "stdout",
     "output_type": "stream",
     "text": [
      "[ 0  5 10]\n",
      "[0.1   2.325 4.55  6.775 9.   ]\n"
     ]
    }
   ],
   "source": [
    "lin_array = np.linspace(0, 10, 3, dtype=int)\n",
    "print(lin_array)\n",
    "lin_array_f = np.linspace(0.1, 9, 5)\n",
    "print(lin_array_f)"
   ]
  },
  {
   "cell_type": "code",
   "execution_count": 84,
   "id": "df008b6b-6389-48af-80f8-fdb43c9781af",
   "metadata": {},
   "outputs": [
    {
     "name": "stdout",
     "output_type": "stream",
     "text": [
      "0 - 0.9999:\n",
      " 0.42468265986077003\n",
      "np.random.rand(2, 5):\n",
      " [[0.04636625 0.66022027 0.18131422 0.16283216 0.31424576]\n",
      " [0.76156137 0.18016306 0.17476271 0.8053319  0.30666027]]\n"
     ]
    }
   ],
   "source": [
    "print('0 - 0.9999:\\n', np.random.rand())  # 0-0.999\n",
    "random_array = np.random.rand(2, 5)\n",
    "print('np.random.rand(2, 5):\\n', random_array)"
   ]
  },
  {
   "cell_type": "code",
   "execution_count": 239,
   "id": "7931621a-cd23-49c3-bebf-374796616726",
   "metadata": {},
   "outputs": [
    {
     "name": "stdout",
     "output_type": "stream",
     "text": [
      "[[19 13 10 16]\n",
      " [17 15 13 18]\n",
      " [17 18 15 20]]\n",
      "[[19.63928863 13.11329733 10.06257718 15.68202723 10.47464185]\n",
      " [19.24209132 12.04561147 11.16380617 11.43796832 10.17169832]]\n"
     ]
    }
   ],
   "source": [
    "random_int = np.random.randint(10, 21, (3, 4))\n",
    "print(random_int)\n",
    "random_array = np.random.rand(2, 5)\n",
    "print((random_array * 10 ) + 10)"
   ]
  }
 ],
 "metadata": {
  "kernelspec": {
   "display_name": "Python 3 (ipykernel)",
   "language": "python",
   "name": "python3"
  },
  "language_info": {
   "codemirror_mode": {
    "name": "ipython",
    "version": 3
   },
   "file_extension": ".py",
   "mimetype": "text/x-python",
   "name": "python",
   "nbconvert_exporter": "python",
   "pygments_lexer": "ipython3",
   "version": "3.11.7"
  }
 },
 "nbformat": 4,
 "nbformat_minor": 5
}
